{
 "cells": [
  {
   "cell_type": "markdown",
   "metadata": {},
   "source": [
    "## Training the tokenizer\n",
    "This notebook is an example on how to use the tokenizer\n",
    "\n",
    "first we have to import the tokenizer, the tokenizer user a BPE algorithm and is inside the class BPETokenizer\n",
    "\n",
    "You can train the algorithm in multiple documents or using a single text file.\n",
    "In this exemple we are going to use multiple documents\n",
    "\n",
    "You also have to decide the number of target tokens. for this exemple we are using 500"
   ]
  },
  {
   "cell_type": "code",
   "execution_count": 1,
   "metadata": {},
   "outputs": [
    {
     "name": "stdout",
     "output_type": "stream",
     "text": [
      "Opening files text\n"
     ]
    },
    {
     "data": {
      "application/vnd.jupyter.widget-view+json": {
       "model_id": "2f1237225055416dbf408506f9731391",
       "version_major": 2,
       "version_minor": 0
      },
      "text/plain": [
       "  0%|          | 0/10000 [00:00<?, ?it/s]"
      ]
     },
     "metadata": {},
     "output_type": "display_data"
    },
    {
     "name": "stdout",
     "output_type": "stream",
     "text": [
      "Applying regex rules on files text...\n",
      "Selecting tokens\n"
     ]
    },
    {
     "data": {
      "application/vnd.jupyter.widget-view+json": {
       "model_id": "1a49f1f8b7c0403a87613e78af6517fe",
       "version_major": 2,
       "version_minor": 0
      },
      "text/plain": [
       "  0%|          | 0/10000 [00:00<?, ?it/s]"
      ]
     },
     "metadata": {},
     "output_type": "display_data"
    },
    {
     "name": "stdout",
     "output_type": "stream",
     "text": [
      "training...\n"
     ]
    },
    {
     "data": {
      "application/vnd.jupyter.widget-view+json": {
       "model_id": "f8954bb74a2749a58b928b8f481a07c5",
       "version_major": 2,
       "version_minor": 0
      },
      "text/plain": [
       "  0%|          | 0/244 [00:00<?, ?it/s]"
      ]
     },
     "metadata": {},
     "output_type": "display_data"
    },
    {
     "name": "stdout",
     "output_type": "stream",
     "text": [
      "pair (32, 100) -> 256\n",
      "pair (32, 101) -> 257\n",
      "pair (114, 97) -> 258\n",
      "pair (32, 97) -> 259\n",
      "pair (256, 101) -> 260\n",
      "pair (111, 115) -> 261\n",
      "pair (32, 112) -> 262\n",
      "pair (110, 116) -> 263\n",
      "pair (32, 99) -> 264\n",
      "pair (101, 115) -> 265\n",
      "pair (111, 114) -> 266\n",
      "pair (101, 114) -> 267\n",
      "pair (97, 115) -> 268\n",
      "pair (32, 115) -> 269\n",
      "pair (105, 97) -> 270\n",
      "pair (105, 115) -> 271\n",
      "pair (97, 100) -> 272\n",
      "pair (105, 110) -> 273\n",
      "pair (195, 163) -> 274\n",
      "pair (114, 101) -> 275\n",
      "pair (274, 111) -> 276\n",
      "pair (109, 97) -> 277\n",
      "pair (105, 99) -> 278\n",
      "pair (32, 111) -> 279\n",
      "pair (264, 111) -> 280\n",
      "pair (116, 97) -> 281\n",
      "pair (195, 167) -> 282\n",
      "pair (32, 110) -> 283\n",
      "pair (114, 111) -> 284\n",
      "pair (109, 101) -> 285\n",
      "pair (113, 117) -> 286\n",
      "pair (105, 100) -> 287\n",
      "pair (32, 102) -> 288\n",
      "pair (97, 114) -> 289\n",
      "pair (110, 100) -> 290\n",
      "pair (195, 169) -> 291\n",
      "pair (116, 101) -> 292\n",
      "pair (97, 108) -> 293\n",
      "pair (32, 49) -> 294\n",
      "pair (32, 67) -> 295\n",
      "pair (105, 111) -> 296\n",
      "pair (32, 65) -> 297\n",
      "pair (256, 111) -> 298\n",
      "pair (32, 124) -> 299\n",
      "pair (195, 173) -> 300\n",
      "pair (32, 117) -> 301\n",
      "pair (116, 111) -> 302\n",
      "pair (32, 286) -> 303\n",
      "pair (256, 97) -> 304\n",
      "pair (195, 161) -> 305\n",
      "pair (280, 109) -> 306\n",
      "pair (32, 109) -> 307\n",
      "pair (61, 61) -> 308\n",
      "pair (32, 83) -> 309\n",
      "pair (101, 108) -> 310\n",
      "pair (282, 276) -> 311\n",
      "pair (263, 101) -> 312\n",
      "pair (32, 80) -> 313\n",
      "pair (257, 109) -> 314\n",
      "pair (114, 105) -> 315\n",
      "pair (105, 108) -> 316\n",
      "pair (269, 101) -> 317\n",
      "pair (111, 108) -> 318\n",
      "pair (32, 42) -> 319\n",
      "pair (97, 110) -> 320\n",
      "pair (32, 77) -> 321\n",
      "pair (32, 116) -> 322\n",
      "pair (32, 69) -> 323\n",
      "pair (303, 101) -> 324\n",
      "pair (101, 110) -> 325\n",
      "pair (117, 108) -> 326\n",
      "pair (32, 50) -> 327\n",
      "pair (257, 115) -> 328\n",
      "pair (32, 40) -> 329\n",
      "pair (97, 258) -> 330\n",
      "pair (32, 275) -> 331\n",
      "pair (111, 110) -> 332\n",
      "pair (32, 118) -> 333\n",
      "pair (32, 108) -> 334\n",
      "pair (101, 105) -> 335\n",
      "pair (299, 124) -> 336\n",
      "pair (195, 179) -> 337\n",
      "pair (116, 105) -> 338\n",
      "pair (116, 117) -> 339\n",
      "pair (294, 57) -> 340\n",
      "pair (32, 66) -> 341\n",
      "pair (103, 117) -> 342\n",
      "pair (32, 98) -> 343\n",
      "pair (32, 308) -> 344\n",
      "pair (101, 109) -> 345\n",
      "pair (110, 99) -> 346\n",
      "pair (283, 111) -> 347\n",
      "pair (32, 277) -> 348\n",
      "pair (32, 79) -> 349\n",
      "pair (278, 97) -> 350\n",
      "pair (272, 111) -> 351\n",
      "pair (290, 111) -> 352\n",
      "pair (32, 82) -> 353\n",
      "pair (104, 97) -> 354\n",
      "pair (111, 117) -> 355\n",
      "pair (114, 265) -> 356\n",
      "pair (32, 76) -> 357\n",
      "pair (32, 68) -> 358\n",
      "pair (32, 70) -> 359\n",
      "pair (32, 78) -> 360\n",
      "pair (32, 84) -> 361\n",
      "pair (32, 273) -> 362\n",
      "pair (263, 111) -> 363\n",
      "pair (110, 115) -> 364\n",
      "pair (100, 111) -> 365\n",
      "pair (117, 115) -> 366\n",
      "pair (301, 109) -> 367\n",
      "pair (283, 97) -> 368\n",
      "pair (32, 73) -> 369\n",
      "pair (32, 103) -> 370\n",
      "pair (301, 277) -> 371\n",
      "pair (327, 48) -> 372\n",
      "pair (118, 97) -> 373\n",
      "pair (108, 101) -> 374\n",
      "pair (262, 330) -> 375\n",
      "pair (109, 112) -> 376\n",
      "pair (262, 266) -> 377\n",
      "pair (32, 71) -> 378\n",
      "pair (287, 272) -> 379\n",
      "pair (195, 170) -> 380\n",
      "pair (101, 263) -> 381\n",
      "pair (101, 99) -> 382\n",
      "pair (32, 291) -> 383\n",
      "pair (269, 117) -> 384\n",
      "pair (195, 181) -> 385\n",
      "pair (111, 99) -> 386\n",
      "pair (288, 111) -> 387\n",
      "pair (385, 265) -> 388\n",
      "pair (115, 101) -> 389\n",
      "pair (285, 312) -> 390\n",
      "pair (32, 105) -> 391\n",
      "pair (258, 115) -> 392\n",
      "pair (226, 128) -> 393\n",
      "pair (272, 97) -> 394\n",
      "pair (109, 98) -> 395\n",
      "pair (108, 97) -> 396\n",
      "pair (105, 103) -> 397\n",
      "pair (271, 116) -> 398\n",
      "pair (262, 284) -> 399\n",
      "pair (104, 111) -> 400\n",
      "pair (32, 195) -> 401\n",
      "pair (32, 261) -> 402\n",
      "pair (110, 97) -> 403\n",
      "pair (100, 101) -> 404\n",
      "pair (259, 115) -> 405\n",
      "pair (379, 101) -> 406\n",
      "pair (105, 118) -> 407\n",
      "pair (32, 74) -> 408\n",
      "pair (105, 116) -> 409\n",
      "pair (117, 110) -> 410\n",
      "pair (262, 111) -> 411\n",
      "pair (32, 292) -> 412\n",
      "pair (257, 120) -> 413\n",
      "pair (100, 97) -> 414\n",
      "pair (260, 115) -> 415\n",
      "pair (105, 122) -> 416\n",
      "pair (279, 117) -> 417\n",
      "pair (109, 111) -> 418\n",
      "pair (114, 270) -> 419\n",
      "pair (101, 258) -> 420\n",
      "pair (110, 111) -> 421\n",
      "pair (306, 111) -> 422\n",
      "pair (295, 97) -> 423\n",
      "pair (32, 86) -> 424\n",
      "pair (256, 261) -> 425\n",
      "pair (97, 311) -> 426\n",
      "pair (32, 72) -> 427\n",
      "pair (32, 393) -> 428\n",
      "pair (262, 310) -> 429\n",
      "pair (278, 111) -> 430\n",
      "pair (32, 106) -> 431\n",
      "pair (259, 108) -> 432\n",
      "pair (115, 111) -> 433\n",
      "pair (387, 105) -> 434\n",
      "pair (287, 111) -> 435\n",
      "pair (282, 388) -> 436\n",
      "pair (195, 186) -> 437\n",
      "pair (97, 99) -> 438\n",
      "pair (296, 110) -> 439\n",
      "pair (114, 117) -> 440\n",
      "pair (105, 281) -> 441\n",
      "pair (114, 261) -> 442\n",
      "pair (105, 112) -> 443\n",
      "pair (97, 116) -> 444\n",
      "pair (285, 363) -> 445\n",
      "pair (264, 97) -> 446\n",
      "pair (99, 111) -> 447\n",
      "pair (32, 34) -> 448\n",
      "pair (259, 112) -> 449\n",
      "pair (323, 115) -> 450\n",
      "pair (32, 61) -> 451\n",
      "pair (272, 261) -> 452\n",
      "pair (114, 296) -> 453\n",
      "pair (328, 116) -> 454\n",
      "pair (48, 48) -> 455\n",
      "pair (32, 285) -> 456\n",
      "pair (105, 109) -> 457\n",
      "pair (291, 109) -> 458\n",
      "pair (346, 270) -> 459\n",
      "pair (32, 104) -> 460\n",
      "pair (32, 281) -> 461\n",
      "pair (111, 103) -> 462\n",
      "pair (258, 109) -> 463\n",
      "pair (266, 270) -> 464\n",
      "pair (32, 85) -> 465\n",
      "pair (118, 101) -> 466\n",
      "pair (344, 61) -> 467\n",
      "pair (290, 101) -> 468\n",
      "pair (32, 51) -> 469\n",
      "pair (266, 265) -> 470\n",
      "pair (104, 101) -> 471\n",
      "pair (348, 271) -> 472\n",
      "pair (99, 97) -> 473\n",
      "pair (259, 111) -> 474\n",
      "pair (105, 102) -> 475\n",
      "pair (105, 114) -> 476\n",
      "pair (99, 101) -> 477\n",
      "pair (32, 45) -> 478\n",
      "pair (116, 267) -> 479\n",
      "pair (257, 263) -> 480\n",
      "pair (287, 97) -> 481\n",
      "pair (428, 148) -> 482\n",
      "pair (262, 289) -> 483\n",
      "pair (269, 267) -> 484\n",
      "pair (282, 97) -> 485\n",
      "pair (195, 162) -> 486\n",
      "pair (263, 265) -> 487\n",
      "pair (270, 108) -> 488\n",
      "pair (401, 160) -> 489\n",
      "pair (267, 115) -> 490\n",
      "pair (273, 97) -> 491\n",
      "pair (335, 284) -> 492\n",
      "pair (110, 261) -> 493\n",
      "pair (280, 364) -> 494\n",
      "pair (99, 318) -> 495\n",
      "pair (115, 97) -> 496\n",
      "pair (271, 281) -> 497\n",
      "pair (111, 98) -> 498\n",
      "pair (285, 263) -> 499\n"
     ]
    }
   ],
   "source": [
    "from BPE import BPETokenizer\n",
    "\n",
    "tokenizer = BPETokenizer()\n",
    "tokenizer.tokenizer_fit_multidocs(500, 'corpus')"
   ]
  },
  {
   "cell_type": "markdown",
   "metadata": {},
   "source": [
    "### saving the tokenizer\n",
    "\n",
    "You may have notice that this task take some time to finish.\n",
    "This is partialy because the code is not optimized to large documents.\n",
    "since we are spliting the texts into words, a simple solution to optimize the code would be\n",
    "to build a dictionary of tokens instead of a lonk list of tokens, thus we would not need to\n",
    "iterate over the same word multiple times.\n",
    "\n",
    "Either way, we sugest you to save the tokenizer, this would let you reuse the trained tokenizer\n",
    "and perform the encode and decode functionalities latter on."
   ]
  },
  {
   "cell_type": "code",
   "execution_count": 3,
   "metadata": {},
   "outputs": [],
   "source": [
    "import pickle\n",
    "# Saving the object to a file\n",
    "with open('tokenizer500.pkl', 'wb') as file:\n",
    "    pickle.dump(tokenizer, file)"
   ]
  },
  {
   "cell_type": "markdown",
   "metadata": {},
   "source": [
    "### Checking the vocabulary\n",
    "\n",
    "You can check the vocabulary by using the tokenizer.vocab\n",
    "the vocab is is stored in a dictionary contioning its token id and its bynary value."
   ]
  },
  {
   "cell_type": "code",
   "execution_count": 4,
   "metadata": {},
   "outputs": [
    {
     "data": {
      "text/plain": [
       "{0: b'\\x00',\n",
       " 1: b'\\x01',\n",
       " 2: b'\\x02',\n",
       " 3: b'\\x03',\n",
       " 4: b'\\x04',\n",
       " 5: b'\\x05',\n",
       " 6: b'\\x06',\n",
       " 7: b'\\x07',\n",
       " 8: b'\\x08',\n",
       " 9: b'\\t',\n",
       " 10: b'\\n',\n",
       " 11: b'\\x0b',\n",
       " 12: b'\\x0c',\n",
       " 13: b'\\r',\n",
       " 14: b'\\x0e',\n",
       " 15: b'\\x0f',\n",
       " 16: b'\\x10',\n",
       " 17: b'\\x11',\n",
       " 18: b'\\x12',\n",
       " 19: b'\\x13',\n",
       " 20: b'\\x14',\n",
       " 21: b'\\x15',\n",
       " 22: b'\\x16',\n",
       " 23: b'\\x17',\n",
       " 24: b'\\x18',\n",
       " 25: b'\\x19',\n",
       " 26: b'\\x1a',\n",
       " 27: b'\\x1b',\n",
       " 28: b'\\x1c',\n",
       " 29: b'\\x1d',\n",
       " 30: b'\\x1e',\n",
       " 31: b'\\x1f',\n",
       " 32: b' ',\n",
       " 33: b'!',\n",
       " 34: b'\"',\n",
       " 35: b'#',\n",
       " 36: b'$',\n",
       " 37: b'%',\n",
       " 38: b'&',\n",
       " 39: b\"'\",\n",
       " 40: b'(',\n",
       " 41: b')',\n",
       " 42: b'*',\n",
       " 43: b'+',\n",
       " 44: b',',\n",
       " 45: b'-',\n",
       " 46: b'.',\n",
       " 47: b'/',\n",
       " 48: b'0',\n",
       " 49: b'1',\n",
       " 50: b'2',\n",
       " 51: b'3',\n",
       " 52: b'4',\n",
       " 53: b'5',\n",
       " 54: b'6',\n",
       " 55: b'7',\n",
       " 56: b'8',\n",
       " 57: b'9',\n",
       " 58: b':',\n",
       " 59: b';',\n",
       " 60: b'<',\n",
       " 61: b'=',\n",
       " 62: b'>',\n",
       " 63: b'?',\n",
       " 64: b'@',\n",
       " 65: b'A',\n",
       " 66: b'B',\n",
       " 67: b'C',\n",
       " 68: b'D',\n",
       " 69: b'E',\n",
       " 70: b'F',\n",
       " 71: b'G',\n",
       " 72: b'H',\n",
       " 73: b'I',\n",
       " 74: b'J',\n",
       " 75: b'K',\n",
       " 76: b'L',\n",
       " 77: b'M',\n",
       " 78: b'N',\n",
       " 79: b'O',\n",
       " 80: b'P',\n",
       " 81: b'Q',\n",
       " 82: b'R',\n",
       " 83: b'S',\n",
       " 84: b'T',\n",
       " 85: b'U',\n",
       " 86: b'V',\n",
       " 87: b'W',\n",
       " 88: b'X',\n",
       " 89: b'Y',\n",
       " 90: b'Z',\n",
       " 91: b'[',\n",
       " 92: b'\\\\',\n",
       " 93: b']',\n",
       " 94: b'^',\n",
       " 95: b'_',\n",
       " 96: b'`',\n",
       " 97: b'a',\n",
       " 98: b'b',\n",
       " 99: b'c',\n",
       " 100: b'd',\n",
       " 101: b'e',\n",
       " 102: b'f',\n",
       " 103: b'g',\n",
       " 104: b'h',\n",
       " 105: b'i',\n",
       " 106: b'j',\n",
       " 107: b'k',\n",
       " 108: b'l',\n",
       " 109: b'm',\n",
       " 110: b'n',\n",
       " 111: b'o',\n",
       " 112: b'p',\n",
       " 113: b'q',\n",
       " 114: b'r',\n",
       " 115: b's',\n",
       " 116: b't',\n",
       " 117: b'u',\n",
       " 118: b'v',\n",
       " 119: b'w',\n",
       " 120: b'x',\n",
       " 121: b'y',\n",
       " 122: b'z',\n",
       " 123: b'{',\n",
       " 124: b'|',\n",
       " 125: b'}',\n",
       " 126: b'~',\n",
       " 127: b'\\x7f',\n",
       " 128: b'\\x80',\n",
       " 129: b'\\x81',\n",
       " 130: b'\\x82',\n",
       " 131: b'\\x83',\n",
       " 132: b'\\x84',\n",
       " 133: b'\\x85',\n",
       " 134: b'\\x86',\n",
       " 135: b'\\x87',\n",
       " 136: b'\\x88',\n",
       " 137: b'\\x89',\n",
       " 138: b'\\x8a',\n",
       " 139: b'\\x8b',\n",
       " 140: b'\\x8c',\n",
       " 141: b'\\x8d',\n",
       " 142: b'\\x8e',\n",
       " 143: b'\\x8f',\n",
       " 144: b'\\x90',\n",
       " 145: b'\\x91',\n",
       " 146: b'\\x92',\n",
       " 147: b'\\x93',\n",
       " 148: b'\\x94',\n",
       " 149: b'\\x95',\n",
       " 150: b'\\x96',\n",
       " 151: b'\\x97',\n",
       " 152: b'\\x98',\n",
       " 153: b'\\x99',\n",
       " 154: b'\\x9a',\n",
       " 155: b'\\x9b',\n",
       " 156: b'\\x9c',\n",
       " 157: b'\\x9d',\n",
       " 158: b'\\x9e',\n",
       " 159: b'\\x9f',\n",
       " 160: b'\\xa0',\n",
       " 161: b'\\xa1',\n",
       " 162: b'\\xa2',\n",
       " 163: b'\\xa3',\n",
       " 164: b'\\xa4',\n",
       " 165: b'\\xa5',\n",
       " 166: b'\\xa6',\n",
       " 167: b'\\xa7',\n",
       " 168: b'\\xa8',\n",
       " 169: b'\\xa9',\n",
       " 170: b'\\xaa',\n",
       " 171: b'\\xab',\n",
       " 172: b'\\xac',\n",
       " 173: b'\\xad',\n",
       " 174: b'\\xae',\n",
       " 175: b'\\xaf',\n",
       " 176: b'\\xb0',\n",
       " 177: b'\\xb1',\n",
       " 178: b'\\xb2',\n",
       " 179: b'\\xb3',\n",
       " 180: b'\\xb4',\n",
       " 181: b'\\xb5',\n",
       " 182: b'\\xb6',\n",
       " 183: b'\\xb7',\n",
       " 184: b'\\xb8',\n",
       " 185: b'\\xb9',\n",
       " 186: b'\\xba',\n",
       " 187: b'\\xbb',\n",
       " 188: b'\\xbc',\n",
       " 189: b'\\xbd',\n",
       " 190: b'\\xbe',\n",
       " 191: b'\\xbf',\n",
       " 192: b'\\xc0',\n",
       " 193: b'\\xc1',\n",
       " 194: b'\\xc2',\n",
       " 195: b'\\xc3',\n",
       " 196: b'\\xc4',\n",
       " 197: b'\\xc5',\n",
       " 198: b'\\xc6',\n",
       " 199: b'\\xc7',\n",
       " 200: b'\\xc8',\n",
       " 201: b'\\xc9',\n",
       " 202: b'\\xca',\n",
       " 203: b'\\xcb',\n",
       " 204: b'\\xcc',\n",
       " 205: b'\\xcd',\n",
       " 206: b'\\xce',\n",
       " 207: b'\\xcf',\n",
       " 208: b'\\xd0',\n",
       " 209: b'\\xd1',\n",
       " 210: b'\\xd2',\n",
       " 211: b'\\xd3',\n",
       " 212: b'\\xd4',\n",
       " 213: b'\\xd5',\n",
       " 214: b'\\xd6',\n",
       " 215: b'\\xd7',\n",
       " 216: b'\\xd8',\n",
       " 217: b'\\xd9',\n",
       " 218: b'\\xda',\n",
       " 219: b'\\xdb',\n",
       " 220: b'\\xdc',\n",
       " 221: b'\\xdd',\n",
       " 222: b'\\xde',\n",
       " 223: b'\\xdf',\n",
       " 224: b'\\xe0',\n",
       " 225: b'\\xe1',\n",
       " 226: b'\\xe2',\n",
       " 227: b'\\xe3',\n",
       " 228: b'\\xe4',\n",
       " 229: b'\\xe5',\n",
       " 230: b'\\xe6',\n",
       " 231: b'\\xe7',\n",
       " 232: b'\\xe8',\n",
       " 233: b'\\xe9',\n",
       " 234: b'\\xea',\n",
       " 235: b'\\xeb',\n",
       " 236: b'\\xec',\n",
       " 237: b'\\xed',\n",
       " 238: b'\\xee',\n",
       " 239: b'\\xef',\n",
       " 240: b'\\xf0',\n",
       " 241: b'\\xf1',\n",
       " 242: b'\\xf2',\n",
       " 243: b'\\xf3',\n",
       " 244: b'\\xf4',\n",
       " 245: b'\\xf5',\n",
       " 246: b'\\xf6',\n",
       " 247: b'\\xf7',\n",
       " 248: b'\\xf8',\n",
       " 249: b'\\xf9',\n",
       " 250: b'\\xfa',\n",
       " 251: b'\\xfb',\n",
       " 252: b'\\xfc',\n",
       " 253: b'\\xfd',\n",
       " 254: b'\\xfe',\n",
       " 255: b'\\xff',\n",
       " 256: b' d',\n",
       " 257: b' e',\n",
       " 258: b'ra',\n",
       " 259: b' a',\n",
       " 260: b' de',\n",
       " 261: b'os',\n",
       " 262: b' p',\n",
       " 263: b'nt',\n",
       " 264: b' c',\n",
       " 265: b'es',\n",
       " 266: b'or',\n",
       " 267: b'er',\n",
       " 268: b'as',\n",
       " 269: b' s',\n",
       " 270: b'ia',\n",
       " 271: b'is',\n",
       " 272: b'ad',\n",
       " 273: b'in',\n",
       " 274: b'\\xc3\\xa3',\n",
       " 275: b're',\n",
       " 276: b'\\xc3\\xa3o',\n",
       " 277: b'ma',\n",
       " 278: b'ic',\n",
       " 279: b' o',\n",
       " 280: b' co',\n",
       " 281: b'ta',\n",
       " 282: b'\\xc3\\xa7',\n",
       " 283: b' n',\n",
       " 284: b'ro',\n",
       " 285: b'me',\n",
       " 286: b'qu',\n",
       " 287: b'id',\n",
       " 288: b' f',\n",
       " 289: b'ar',\n",
       " 290: b'nd',\n",
       " 291: b'\\xc3\\xa9',\n",
       " 292: b'te',\n",
       " 293: b'al',\n",
       " 294: b' 1',\n",
       " 295: b' C',\n",
       " 296: b'io',\n",
       " 297: b' A',\n",
       " 298: b' do',\n",
       " 299: b' |',\n",
       " 300: b'\\xc3\\xad',\n",
       " 301: b' u',\n",
       " 302: b'to',\n",
       " 303: b' qu',\n",
       " 304: b' da',\n",
       " 305: b'\\xc3\\xa1',\n",
       " 306: b' com',\n",
       " 307: b' m',\n",
       " 308: b'==',\n",
       " 309: b' S',\n",
       " 310: b'el',\n",
       " 311: b'\\xc3\\xa7\\xc3\\xa3o',\n",
       " 312: b'nte',\n",
       " 313: b' P',\n",
       " 314: b' em',\n",
       " 315: b'ri',\n",
       " 316: b'il',\n",
       " 317: b' se',\n",
       " 318: b'ol',\n",
       " 319: b' *',\n",
       " 320: b'an',\n",
       " 321: b' M',\n",
       " 322: b' t',\n",
       " 323: b' E',\n",
       " 324: b' que',\n",
       " 325: b'en',\n",
       " 326: b'ul',\n",
       " 327: b' 2',\n",
       " 328: b' es',\n",
       " 329: b' (',\n",
       " 330: b'ara',\n",
       " 331: b' re',\n",
       " 332: b'on',\n",
       " 333: b' v',\n",
       " 334: b' l',\n",
       " 335: b'ei',\n",
       " 336: b' ||',\n",
       " 337: b'\\xc3\\xb3',\n",
       " 338: b'ti',\n",
       " 339: b'tu',\n",
       " 340: b' 19',\n",
       " 341: b' B',\n",
       " 342: b'gu',\n",
       " 343: b' b',\n",
       " 344: b' ==',\n",
       " 345: b'em',\n",
       " 346: b'nc',\n",
       " 347: b' no',\n",
       " 348: b' ma',\n",
       " 349: b' O',\n",
       " 350: b'ica',\n",
       " 351: b'ado',\n",
       " 352: b'ndo',\n",
       " 353: b' R',\n",
       " 354: b'ha',\n",
       " 355: b'ou',\n",
       " 356: b'res',\n",
       " 357: b' L',\n",
       " 358: b' D',\n",
       " 359: b' F',\n",
       " 360: b' N',\n",
       " 361: b' T',\n",
       " 362: b' in',\n",
       " 363: b'nto',\n",
       " 364: b'ns',\n",
       " 365: b'do',\n",
       " 366: b'us',\n",
       " 367: b' um',\n",
       " 368: b' na',\n",
       " 369: b' I',\n",
       " 370: b' g',\n",
       " 371: b' uma',\n",
       " 372: b' 20',\n",
       " 373: b'va',\n",
       " 374: b'le',\n",
       " 375: b' para',\n",
       " 376: b'mp',\n",
       " 377: b' por',\n",
       " 378: b' G',\n",
       " 379: b'idad',\n",
       " 380: b'\\xc3\\xaa',\n",
       " 381: b'ent',\n",
       " 382: b'ec',\n",
       " 383: b' \\xc3\\xa9',\n",
       " 384: b' su',\n",
       " 385: b'\\xc3\\xb5',\n",
       " 386: b'oc',\n",
       " 387: b' fo',\n",
       " 388: b'\\xc3\\xb5es',\n",
       " 389: b'se',\n",
       " 390: b'mente',\n",
       " 391: b' i',\n",
       " 392: b'ras',\n",
       " 393: b'\\xe2\\x80',\n",
       " 394: b'ada',\n",
       " 395: b'mb',\n",
       " 396: b'la',\n",
       " 397: b'ig',\n",
       " 398: b'ist',\n",
       " 399: b' pro',\n",
       " 400: b'ho',\n",
       " 401: b' \\xc3',\n",
       " 402: b' os',\n",
       " 403: b'na',\n",
       " 404: b'de',\n",
       " 405: b' as',\n",
       " 406: b'idade',\n",
       " 407: b'iv',\n",
       " 408: b' J',\n",
       " 409: b'it',\n",
       " 410: b'un',\n",
       " 411: b' po',\n",
       " 412: b' te',\n",
       " 413: b' ex',\n",
       " 414: b'da',\n",
       " 415: b' des',\n",
       " 416: b'iz',\n",
       " 417: b' ou',\n",
       " 418: b'mo',\n",
       " 419: b'ria',\n",
       " 420: b'era',\n",
       " 421: b'no',\n",
       " 422: b' como',\n",
       " 423: b' Ca',\n",
       " 424: b' V',\n",
       " 425: b' dos',\n",
       " 426: b'a\\xc3\\xa7\\xc3\\xa3o',\n",
       " 427: b' H',\n",
       " 428: b' \\xe2\\x80',\n",
       " 429: b' pel',\n",
       " 430: b'ico',\n",
       " 431: b' j',\n",
       " 432: b' al',\n",
       " 433: b'so',\n",
       " 434: b' foi',\n",
       " 435: b'ido',\n",
       " 436: b'\\xc3\\xa7\\xc3\\xb5es',\n",
       " 437: b'\\xc3\\xba',\n",
       " 438: b'ac',\n",
       " 439: b'ion',\n",
       " 440: b'ru',\n",
       " 441: b'ita',\n",
       " 442: b'ros',\n",
       " 443: b'ip',\n",
       " 444: b'at',\n",
       " 445: b'mento',\n",
       " 446: b' ca',\n",
       " 447: b'co',\n",
       " 448: b' \"',\n",
       " 449: b' ap',\n",
       " 450: b' Es',\n",
       " 451: b' =',\n",
       " 452: b'ados',\n",
       " 453: b'rio',\n",
       " 454: b' est',\n",
       " 455: b'00',\n",
       " 456: b' me',\n",
       " 457: b'im',\n",
       " 458: b'\\xc3\\xa9m',\n",
       " 459: b'ncia',\n",
       " 460: b' h',\n",
       " 461: b' ta',\n",
       " 462: b'og',\n",
       " 463: b'ram',\n",
       " 464: b'oria',\n",
       " 465: b' U',\n",
       " 466: b've',\n",
       " 467: b' ===',\n",
       " 468: b'nde',\n",
       " 469: b' 3',\n",
       " 470: b'ores',\n",
       " 471: b'he',\n",
       " 472: b' mais',\n",
       " 473: b'ca',\n",
       " 474: b' ao',\n",
       " 475: b'if',\n",
       " 476: b'ir',\n",
       " 477: b'ce',\n",
       " 478: b' -',\n",
       " 479: b'ter',\n",
       " 480: b' ent',\n",
       " 481: b'ida',\n",
       " 482: b' \\xe2\\x80\\x94',\n",
       " 483: b' par',\n",
       " 484: b' ser',\n",
       " 485: b'\\xc3\\xa7a',\n",
       " 486: b'\\xc3\\xa2',\n",
       " 487: b'ntes',\n",
       " 488: b'ial',\n",
       " 489: b' \\xc3\\xa0',\n",
       " 490: b'ers',\n",
       " 491: b'ina',\n",
       " 492: b'eiro',\n",
       " 493: b'nos',\n",
       " 494: b' cons',\n",
       " 495: b'col',\n",
       " 496: b'sa',\n",
       " 497: b'ista',\n",
       " 498: b'ob',\n",
       " 499: b'ment'}"
      ]
     },
     "execution_count": 4,
     "metadata": {},
     "output_type": "execute_result"
    }
   ],
   "source": [
    "tokenizer.vocab"
   ]
  },
  {
   "cell_type": "markdown",
   "metadata": {},
   "source": [
    "### encoding and decoding\n",
    "\n",
    "Here we will test the tokenizer encode and decode methods\n",
    "\n",
    "we can see how the tokenizer would split the text when you encode it"
   ]
  },
  {
   "cell_type": "code",
   "execution_count": 17,
   "metadata": {},
   "outputs": [
    {
     "data": {
      "text/plain": [
       "'A'"
      ]
     },
     "metadata": {},
     "output_type": "display_data"
    },
    {
     "data": {
      "text/plain": [
       "'s'"
      ]
     },
     "metadata": {},
     "output_type": "display_data"
    },
    {
     "data": {
      "text/plain": [
       "' '"
      ]
     },
     "metadata": {},
     "output_type": "display_data"
    },
    {
     "data": {
      "text/plain": [
       "'ra'"
      ]
     },
     "metadata": {},
     "output_type": "display_data"
    },
    {
     "data": {
      "text/plain": [
       "'í'"
      ]
     },
     "metadata": {},
     "output_type": "display_data"
    },
    {
     "data": {
      "text/plain": [
       "'z'"
      ]
     },
     "metadata": {},
     "output_type": "display_data"
    },
    {
     "data": {
      "text/plain": [
       "'es'"
      ]
     },
     "metadata": {},
     "output_type": "display_data"
    },
    {
     "data": {
      "text/plain": [
       "' e'"
      ]
     },
     "metadata": {},
     "output_type": "display_data"
    },
    {
     "data": {
      "text/plain": [
       "'ti'"
      ]
     },
     "metadata": {},
     "output_type": "display_data"
    },
    {
     "data": {
      "text/plain": [
       "'m'"
      ]
     },
     "metadata": {},
     "output_type": "display_data"
    },
    {
     "data": {
      "text/plain": [
       "'ol'"
      ]
     },
     "metadata": {},
     "output_type": "display_data"
    },
    {
     "data": {
      "text/plain": [
       "'ó'"
      ]
     },
     "metadata": {},
     "output_type": "display_data"
    },
    {
     "data": {
      "text/plain": [
       "'g'"
      ]
     },
     "metadata": {},
     "output_type": "display_data"
    },
    {
     "data": {
      "text/plain": [
       "'ic'"
      ]
     },
     "metadata": {},
     "output_type": "display_data"
    },
    {
     "data": {
      "text/plain": [
       "'as'"
      ]
     },
     "metadata": {},
     "output_type": "display_data"
    },
    {
     "data": {
      "text/plain": [
       "' do'"
      ]
     },
     "metadata": {},
     "output_type": "display_data"
    },
    {
     "data": {
      "text/plain": [
       "' t'"
      ]
     },
     "metadata": {},
     "output_type": "display_data"
    },
    {
     "data": {
      "text/plain": [
       "'er'"
      ]
     },
     "metadata": {},
     "output_type": "display_data"
    },
    {
     "data": {
      "text/plain": [
       "'mo'"
      ]
     },
     "metadata": {},
     "output_type": "display_data"
    },
    {
     "data": {
      "text/plain": [
       "' B'"
      ]
     },
     "metadata": {},
     "output_type": "display_data"
    },
    {
     "data": {
      "text/plain": [
       "'ras'"
      ]
     },
     "metadata": {},
     "output_type": "display_data"
    },
    {
     "data": {
      "text/plain": [
       "'il'"
      ]
     },
     "metadata": {},
     "output_type": "display_data"
    },
    {
     "data": {
      "text/plain": [
       "' s'"
      ]
     },
     "metadata": {},
     "output_type": "display_data"
    },
    {
     "data": {
      "text/plain": [
       "'ão'"
      ]
     },
     "metadata": {},
     "output_type": "display_data"
    },
    {
     "data": {
      "text/plain": [
       "' de'"
      ]
     },
     "metadata": {},
     "output_type": "display_data"
    },
    {
     "data": {
      "text/plain": [
       "' d'"
      ]
     },
     "metadata": {},
     "output_type": "display_data"
    },
    {
     "data": {
      "text/plain": [
       "'if'"
      ]
     },
     "metadata": {},
     "output_type": "display_data"
    },
    {
     "data": {
      "text/plain": [
       "'í'"
      ]
     },
     "metadata": {},
     "output_type": "display_data"
    },
    {
     "data": {
      "text/plain": [
       "'c'"
      ]
     },
     "metadata": {},
     "output_type": "display_data"
    },
    {
     "data": {
      "text/plain": [
       "'il'"
      ]
     },
     "metadata": {},
     "output_type": "display_data"
    },
    {
     "data": {
      "text/plain": [
       "' re'"
      ]
     },
     "metadata": {},
     "output_type": "display_data"
    },
    {
     "data": {
      "text/plain": [
       "'c'"
      ]
     },
     "metadata": {},
     "output_type": "display_data"
    },
    {
     "data": {
      "text/plain": [
       "'on'"
      ]
     },
     "metadata": {},
     "output_type": "display_data"
    },
    {
     "data": {
      "text/plain": [
       "'s'"
      ]
     },
     "metadata": {},
     "output_type": "display_data"
    },
    {
     "data": {
      "text/plain": [
       "'t'"
      ]
     },
     "metadata": {},
     "output_type": "display_data"
    },
    {
     "data": {
      "text/plain": [
       "'ru'"
      ]
     },
     "metadata": {},
     "output_type": "display_data"
    },
    {
     "data": {
      "text/plain": [
       "'ção'"
      ]
     },
     "metadata": {},
     "output_type": "display_data"
    },
    {
     "data": {
      "text/plain": [
       "'.'"
      ]
     },
     "metadata": {},
     "output_type": "display_data"
    }
   ],
   "source": [
    "encoded_text = tokenizer.encode(\"As raízes etimológicas do termo Brasil são de difícil reconstrução.\")\n",
    "for i, value in enumerate(encoded_text):\n",
    "    display(tokenizer.decode(encoded_text[i:i+1]))"
   ]
  },
  {
   "cell_type": "markdown",
   "metadata": {},
   "source": [
    "We can also use the encode to generate a list of tokens "
   ]
  },
  {
   "cell_type": "code",
   "execution_count": 18,
   "metadata": {},
   "outputs": [
    {
     "data": {
      "text/plain": [
       "[103,\n",
       " 261,\n",
       " 281,\n",
       " 419,\n",
       " 324,\n",
       " 456,\n",
       " 117,\n",
       " 32,\n",
       " 302,\n",
       " 107,\n",
       " 325,\n",
       " 416,\n",
       " 267,\n",
       " 280,\n",
       " 110,\n",
       " 104,\n",
       " 382,\n",
       " 265,\n",
       " 389,\n",
       " 472,\n",
       " 262,\n",
       " 293,\n",
       " 97,\n",
       " 118,\n",
       " 392]"
      ]
     },
     "metadata": {},
     "output_type": "display_data"
    }
   ],
   "source": [
    "text = \"gostaria que meu tokenizer conhecesse mais palavras\"\n",
    "display(tokenizer.encode(text))"
   ]
  },
  {
   "cell_type": "markdown",
   "metadata": {},
   "source": [
    "In a similar way, we decode a list of tokens"
   ]
  },
  {
   "cell_type": "code",
   "execution_count": 20,
   "metadata": {},
   "outputs": [
    {
     "data": {
      "text/plain": [
       "'gostaria que meu'"
      ]
     },
     "metadata": {},
     "output_type": "display_data"
    }
   ],
   "source": [
    "display(tokenizer.decode([103,261,281,419,324,456,117,]))"
   ]
  },
  {
   "cell_type": "markdown",
   "metadata": {},
   "source": [
    "Finally, we can test if the encoder and decoer are returning the sema set of words."
   ]
  },
  {
   "cell_type": "code",
   "execution_count": 21,
   "metadata": {},
   "outputs": [
    {
     "data": {
      "text/plain": [
       "'gostaria que meu tokenizer conhecesse mais palavras'"
      ]
     },
     "metadata": {},
     "output_type": "display_data"
    }
   ],
   "source": [
    "display(tokenizer.decode(tokenizer.encode(text)))"
   ]
  }
 ],
 "metadata": {
  "kernelspec": {
   "display_name": "Python 3",
   "language": "python",
   "name": "python3"
  },
  "language_info": {
   "codemirror_mode": {
    "name": "ipython",
    "version": 3
   },
   "file_extension": ".py",
   "mimetype": "text/x-python",
   "name": "python",
   "nbconvert_exporter": "python",
   "pygments_lexer": "ipython3",
   "version": "3.8.8"
  },
  "vscode": {
   "interpreter": {
    "hash": "4668b2b94aebe22ab6a379c52b27e87f14fb5565ac42686a2db709d03229b54e"
   }
  }
 },
 "nbformat": 4,
 "nbformat_minor": 4
}
