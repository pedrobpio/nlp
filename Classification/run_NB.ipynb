{
 "cells": [
  {
   "cell_type": "markdown",
   "metadata": {},
   "source": [
    "# Classification with NB\n",
    "\n",
    "In this notebook we are going to implement document classification with Naive bayes (NB) using bag of words\n",
    "We are also going to implement show how to perform the grid search to find the best NB hiperparameters\n",
    "\n",
    "Note that most of the code is implemented in the document find_best_hyperparameters\n",
    "Thus, we are going to import the bag of words class and the pandas notebook\n",
    "\n",
    "we will also perfor the classification in two datasets Dmoz-Sports.csv and Dmoz-Computers.csv"
   ]
  },
  {
   "cell_type": "code",
   "execution_count": 1,
   "metadata": {},
   "outputs": [],
   "source": [
    "from find_best_hyperparameters import Bag_of_words\n",
    "import pandas as pd"
   ]
  },
  {
   "cell_type": "markdown",
   "metadata": {},
   "source": [
    "We then instanciate the class Bag_of_words, that contains the code to find the best hiperparamters, the code to fit the best NB."
   ]
  },
  {
   "cell_type": "code",
   "execution_count": 2,
   "metadata": {},
   "outputs": [],
   "source": [
    "BG = Bag_of_words()"
   ]
  },
  {
   "cell_type": "markdown",
   "metadata": {},
   "source": [
    "## Dmoz-Sports.csv\n",
    "\n",
    "first we need to load the dataset and splits its text and labels"
   ]
  },
  {
   "cell_type": "code",
   "execution_count": 3,
   "metadata": {},
   "outputs": [],
   "source": [
    "df = pd.read_csv('Dmoz-Sports.csv')\n",
    "X = df['text'].values\n",
    "labels = df['class'].values"
   ]
  },
  {
   "cell_type": "markdown",
   "metadata": {},
   "source": [
    "Afterward we are performing the grid search.\n",
    "You can check the code for the grid_seach method however, the important part of it is that it will first count each word in the document with a CountVectorizer(), then it will split the X and labels into train and test sets (80% train and 20% tests).\n",
    "\n",
    "it will then perform a grid search in the alpha parameter of NB. you can pass pther parameters in the following format:\n",
    "params = {'alpha': [0.1, 0.4, 0.7, 1, 1.3, 1.5]}"
   ]
  },
  {
   "cell_type": "code",
   "execution_count": 4,
   "metadata": {},
   "outputs": [],
   "source": [
    "grid_sports = BG.grid_search(X, labels)"
   ]
  },
  {
   "cell_type": "markdown",
   "metadata": {},
   "source": [
    "The results of the grid search are then stored into a pandas dataframe"
   ]
  },
  {
   "cell_type": "code",
   "execution_count": 5,
   "metadata": {},
   "outputs": [
    {
     "data": {
      "text/html": [
       "<div>\n",
       "<style scoped>\n",
       "    .dataframe tbody tr th:only-of-type {\n",
       "        vertical-align: middle;\n",
       "    }\n",
       "\n",
       "    .dataframe tbody tr th {\n",
       "        vertical-align: top;\n",
       "    }\n",
       "\n",
       "    .dataframe thead th {\n",
       "        text-align: right;\n",
       "    }\n",
       "</style>\n",
       "<table border=\"1\" class=\"dataframe\">\n",
       "  <thead>\n",
       "    <tr style=\"text-align: right;\">\n",
       "      <th></th>\n",
       "      <th>mean_fit_time</th>\n",
       "      <th>std_fit_time</th>\n",
       "      <th>mean_score_time</th>\n",
       "      <th>std_score_time</th>\n",
       "      <th>param_alpha</th>\n",
       "      <th>params</th>\n",
       "      <th>split0_test_score</th>\n",
       "      <th>split1_test_score</th>\n",
       "      <th>split2_test_score</th>\n",
       "      <th>mean_test_score</th>\n",
       "      <th>std_test_score</th>\n",
       "      <th>rank_test_score</th>\n",
       "    </tr>\n",
       "  </thead>\n",
       "  <tbody>\n",
       "    <tr>\n",
       "      <th>0</th>\n",
       "      <td>0.056410</td>\n",
       "      <td>0.003497</td>\n",
       "      <td>0.009141</td>\n",
       "      <td>0.001624</td>\n",
       "      <td>0.1</td>\n",
       "      <td>{'alpha': 0.1}</td>\n",
       "      <td>0.815556</td>\n",
       "      <td>0.820556</td>\n",
       "      <td>0.798333</td>\n",
       "      <td>0.811481</td>\n",
       "      <td>0.009519</td>\n",
       "      <td>3</td>\n",
       "    </tr>\n",
       "    <tr>\n",
       "      <th>1</th>\n",
       "      <td>0.056795</td>\n",
       "      <td>0.002320</td>\n",
       "      <td>0.009523</td>\n",
       "      <td>0.002122</td>\n",
       "      <td>0.4</td>\n",
       "      <td>{'alpha': 0.4}</td>\n",
       "      <td>0.821667</td>\n",
       "      <td>0.823889</td>\n",
       "      <td>0.804722</td>\n",
       "      <td>0.816759</td>\n",
       "      <td>0.008560</td>\n",
       "      <td>1</td>\n",
       "    </tr>\n",
       "    <tr>\n",
       "      <th>2</th>\n",
       "      <td>0.064059</td>\n",
       "      <td>0.008115</td>\n",
       "      <td>0.008237</td>\n",
       "      <td>0.001673</td>\n",
       "      <td>0.7</td>\n",
       "      <td>{'alpha': 0.7}</td>\n",
       "      <td>0.816944</td>\n",
       "      <td>0.824444</td>\n",
       "      <td>0.803889</td>\n",
       "      <td>0.815093</td>\n",
       "      <td>0.008493</td>\n",
       "      <td>2</td>\n",
       "    </tr>\n",
       "    <tr>\n",
       "      <th>3</th>\n",
       "      <td>0.058787</td>\n",
       "      <td>0.001997</td>\n",
       "      <td>0.010417</td>\n",
       "      <td>0.001095</td>\n",
       "      <td>1</td>\n",
       "      <td>{'alpha': 1}</td>\n",
       "      <td>0.811944</td>\n",
       "      <td>0.818333</td>\n",
       "      <td>0.798611</td>\n",
       "      <td>0.809630</td>\n",
       "      <td>0.008216</td>\n",
       "      <td>4</td>\n",
       "    </tr>\n",
       "    <tr>\n",
       "      <th>4</th>\n",
       "      <td>0.053993</td>\n",
       "      <td>0.002129</td>\n",
       "      <td>0.010217</td>\n",
       "      <td>0.001147</td>\n",
       "      <td>1.3</td>\n",
       "      <td>{'alpha': 1.3}</td>\n",
       "      <td>0.806667</td>\n",
       "      <td>0.814167</td>\n",
       "      <td>0.797778</td>\n",
       "      <td>0.806204</td>\n",
       "      <td>0.006699</td>\n",
       "      <td>5</td>\n",
       "    </tr>\n",
       "    <tr>\n",
       "      <th>5</th>\n",
       "      <td>0.056460</td>\n",
       "      <td>0.001979</td>\n",
       "      <td>0.007876</td>\n",
       "      <td>0.001909</td>\n",
       "      <td>1.5</td>\n",
       "      <td>{'alpha': 1.5}</td>\n",
       "      <td>0.805556</td>\n",
       "      <td>0.809722</td>\n",
       "      <td>0.797500</td>\n",
       "      <td>0.804259</td>\n",
       "      <td>0.005073</td>\n",
       "      <td>6</td>\n",
       "    </tr>\n",
       "  </tbody>\n",
       "</table>\n",
       "</div>"
      ],
      "text/plain": [
       "   mean_fit_time  std_fit_time  mean_score_time  std_score_time param_alpha  \\\n",
       "0       0.056410      0.003497         0.009141        0.001624         0.1   \n",
       "1       0.056795      0.002320         0.009523        0.002122         0.4   \n",
       "2       0.064059      0.008115         0.008237        0.001673         0.7   \n",
       "3       0.058787      0.001997         0.010417        0.001095           1   \n",
       "4       0.053993      0.002129         0.010217        0.001147         1.3   \n",
       "5       0.056460      0.001979         0.007876        0.001909         1.5   \n",
       "\n",
       "           params  split0_test_score  split1_test_score  split2_test_score  \\\n",
       "0  {'alpha': 0.1}           0.815556           0.820556           0.798333   \n",
       "1  {'alpha': 0.4}           0.821667           0.823889           0.804722   \n",
       "2  {'alpha': 0.7}           0.816944           0.824444           0.803889   \n",
       "3    {'alpha': 1}           0.811944           0.818333           0.798611   \n",
       "4  {'alpha': 1.3}           0.806667           0.814167           0.797778   \n",
       "5  {'alpha': 1.5}           0.805556           0.809722           0.797500   \n",
       "\n",
       "   mean_test_score  std_test_score  rank_test_score  \n",
       "0         0.811481        0.009519                3  \n",
       "1         0.816759        0.008560                1  \n",
       "2         0.815093        0.008493                2  \n",
       "3         0.809630        0.008216                4  \n",
       "4         0.806204        0.006699                5  \n",
       "5         0.804259        0.005073                6  "
      ]
     },
     "execution_count": 5,
     "metadata": {},
     "output_type": "execute_result"
    }
   ],
   "source": [
    "df_sports = pd.DataFrame(grid_sports.cv_results_)\n",
    "df_sports"
   ]
  },
  {
   "cell_type": "markdown",
   "metadata": {},
   "source": [
    "We then check the best estimetor in the grid seach"
   ]
  },
  {
   "cell_type": "code",
   "execution_count": 6,
   "metadata": {},
   "outputs": [
    {
     "data": {
      "text/plain": [
       "MultinomialNB(alpha=0.4)"
      ]
     },
     "execution_count": 6,
     "metadata": {},
     "output_type": "execute_result"
    }
   ],
   "source": [
    "grid_sports.best_estimator_"
   ]
  },
  {
   "cell_type": "markdown",
   "metadata": {},
   "source": [
    "Afterwards, we run the train bast method, that will train the best model using the hole train dataset and retrun the results of the tests"
   ]
  },
  {
   "cell_type": "code",
   "execution_count": 7,
   "metadata": {},
   "outputs": [],
   "source": [
    "report, micro_f1 = BG.train_best(X, labels, grid_sports.best_estimator_)"
   ]
  },
  {
   "cell_type": "markdown",
   "metadata": {},
   "source": [
    "The train best method will return a report containing the precision, recall, accuracy and f1-score and a micro_f1\n",
    "\n",
    "we then print those values to evaluate the results"
   ]
  },
  {
   "cell_type": "code",
   "execution_count": 8,
   "metadata": {},
   "outputs": [
    {
     "name": "stdout",
     "output_type": "stream",
     "text": [
      "              precision    recall  f1-score   support\n",
      "\n",
      "    Baseball       0.80      0.59      0.68       114\n",
      "  Basketball       0.84      0.90      0.87       102\n",
      "     Bowling       0.92      0.96      0.94       101\n",
      "     Cricket       0.66      0.94      0.78        90\n",
      "     Cycling       0.88      0.85      0.87       107\n",
      "  Equestrian       0.98      0.87      0.92        95\n",
      "     Fencing       0.91      0.93      0.92       111\n",
      "      Flying       0.81      0.81      0.81        97\n",
      "    Football       0.75      0.68      0.72       107\n",
      "        Golf       0.92      0.85      0.88        94\n",
      "  Gymnastics       0.91      0.91      0.91        95\n",
      "      Hockey       0.76      0.58      0.66       101\n",
      "    Lacrosse       0.72      0.91      0.80       100\n",
      "     Martial       0.92      0.95      0.94        88\n",
      " Motorsports       0.86      0.85      0.86       101\n",
      "   Paintball       0.95      0.90      0.93        84\n",
      "     Running       0.85      0.87      0.86       108\n",
      "     Skating       0.90      0.88      0.89       107\n",
      "      Soccer       0.87      0.75      0.81       102\n",
      "    Softball       0.79      0.92      0.85       114\n",
      "    Strength       0.77      0.90      0.83        86\n",
      "      Tennis       0.84      0.77      0.80       106\n",
      "       Track       0.80      0.86      0.83        98\n",
      "  Volleyball       0.77      0.80      0.79        82\n",
      "       Water       0.92      0.76      0.83       104\n",
      "      Winter       0.96      0.90      0.93        90\n",
      "   Wrestling       0.72      0.77      0.74       116\n",
      "\n",
      "    accuracy                           0.84      2700\n",
      "   macro avg       0.84      0.84      0.84      2700\n",
      "weighted avg       0.84      0.84      0.84      2700\n",
      "\n",
      "f1_micro = 0.837037037037037\n"
     ]
    }
   ],
   "source": [
    "print(report)\n",
    "print(f'f1_micro = {micro_f1}')"
   ]
  },
  {
   "cell_type": "markdown",
   "metadata": {},
   "source": [
    "## Dmoz-Computers.csv\n",
    "\n",
    "For this dataset we aregoing to repeat the entire processe that we did with the other one"
   ]
  },
  {
   "cell_type": "code",
   "execution_count": 9,
   "metadata": {},
   "outputs": [],
   "source": [
    "df = pd.read_csv('Dmoz-Computers.csv')\n",
    "X = df['text'].values\n",
    "labels = df['class'].values"
   ]
  },
  {
   "cell_type": "code",
   "execution_count": 10,
   "metadata": {},
   "outputs": [],
   "source": [
    "grid_computers = BG.grid_search(X, labels)\n"
   ]
  },
  {
   "cell_type": "code",
   "execution_count": 11,
   "metadata": {},
   "outputs": [
    {
     "data": {
      "text/html": [
       "<div>\n",
       "<style scoped>\n",
       "    .dataframe tbody tr th:only-of-type {\n",
       "        vertical-align: middle;\n",
       "    }\n",
       "\n",
       "    .dataframe tbody tr th {\n",
       "        vertical-align: top;\n",
       "    }\n",
       "\n",
       "    .dataframe thead th {\n",
       "        text-align: right;\n",
       "    }\n",
       "</style>\n",
       "<table border=\"1\" class=\"dataframe\">\n",
       "  <thead>\n",
       "    <tr style=\"text-align: right;\">\n",
       "      <th></th>\n",
       "      <th>mean_fit_time</th>\n",
       "      <th>std_fit_time</th>\n",
       "      <th>mean_score_time</th>\n",
       "      <th>std_score_time</th>\n",
       "      <th>param_alpha</th>\n",
       "      <th>params</th>\n",
       "      <th>split0_test_score</th>\n",
       "      <th>split1_test_score</th>\n",
       "      <th>split2_test_score</th>\n",
       "      <th>mean_test_score</th>\n",
       "      <th>std_test_score</th>\n",
       "      <th>rank_test_score</th>\n",
       "    </tr>\n",
       "  </thead>\n",
       "  <tbody>\n",
       "    <tr>\n",
       "      <th>0</th>\n",
       "      <td>0.031200</td>\n",
       "      <td>0.001084</td>\n",
       "      <td>0.008570</td>\n",
       "      <td>0.000670</td>\n",
       "      <td>0.1</td>\n",
       "      <td>{'alpha': 0.1}</td>\n",
       "      <td>0.679163</td>\n",
       "      <td>0.667588</td>\n",
       "      <td>0.674694</td>\n",
       "      <td>0.673815</td>\n",
       "      <td>0.004766</td>\n",
       "      <td>1</td>\n",
       "    </tr>\n",
       "    <tr>\n",
       "      <th>1</th>\n",
       "      <td>0.043484</td>\n",
       "      <td>0.002989</td>\n",
       "      <td>0.008343</td>\n",
       "      <td>0.001376</td>\n",
       "      <td>0.4</td>\n",
       "      <td>{'alpha': 0.4}</td>\n",
       "      <td>0.674428</td>\n",
       "      <td>0.662850</td>\n",
       "      <td>0.671141</td>\n",
       "      <td>0.669473</td>\n",
       "      <td>0.004871</td>\n",
       "      <td>2</td>\n",
       "    </tr>\n",
       "    <tr>\n",
       "      <th>2</th>\n",
       "      <td>0.045094</td>\n",
       "      <td>0.004437</td>\n",
       "      <td>0.010048</td>\n",
       "      <td>0.002065</td>\n",
       "      <td>0.7</td>\n",
       "      <td>{'alpha': 0.7}</td>\n",
       "      <td>0.662194</td>\n",
       "      <td>0.645085</td>\n",
       "      <td>0.650217</td>\n",
       "      <td>0.652499</td>\n",
       "      <td>0.007169</td>\n",
       "      <td>3</td>\n",
       "    </tr>\n",
       "    <tr>\n",
       "      <th>3</th>\n",
       "      <td>0.050058</td>\n",
       "      <td>0.005084</td>\n",
       "      <td>0.007237</td>\n",
       "      <td>0.002577</td>\n",
       "      <td>1</td>\n",
       "      <td>{'alpha': 1}</td>\n",
       "      <td>0.644436</td>\n",
       "      <td>0.626530</td>\n",
       "      <td>0.632057</td>\n",
       "      <td>0.634341</td>\n",
       "      <td>0.007486</td>\n",
       "      <td>4</td>\n",
       "    </tr>\n",
       "    <tr>\n",
       "      <th>4</th>\n",
       "      <td>0.043411</td>\n",
       "      <td>0.001840</td>\n",
       "      <td>0.004826</td>\n",
       "      <td>0.000781</td>\n",
       "      <td>1.3</td>\n",
       "      <td>{'alpha': 1.3}</td>\n",
       "      <td>0.632991</td>\n",
       "      <td>0.611923</td>\n",
       "      <td>0.614291</td>\n",
       "      <td>0.619735</td>\n",
       "      <td>0.009423</td>\n",
       "      <td>5</td>\n",
       "    </tr>\n",
       "    <tr>\n",
       "      <th>5</th>\n",
       "      <td>0.033290</td>\n",
       "      <td>0.001464</td>\n",
       "      <td>0.003009</td>\n",
       "      <td>0.000335</td>\n",
       "      <td>1.5</td>\n",
       "      <td>{'alpha': 1.5}</td>\n",
       "      <td>0.623125</td>\n",
       "      <td>0.602448</td>\n",
       "      <td>0.604816</td>\n",
       "      <td>0.610130</td>\n",
       "      <td>0.009240</td>\n",
       "      <td>6</td>\n",
       "    </tr>\n",
       "  </tbody>\n",
       "</table>\n",
       "</div>"
      ],
      "text/plain": [
       "   mean_fit_time  std_fit_time  mean_score_time  std_score_time param_alpha  \\\n",
       "0       0.031200      0.001084         0.008570        0.000670         0.1   \n",
       "1       0.043484      0.002989         0.008343        0.001376         0.4   \n",
       "2       0.045094      0.004437         0.010048        0.002065         0.7   \n",
       "3       0.050058      0.005084         0.007237        0.002577           1   \n",
       "4       0.043411      0.001840         0.004826        0.000781         1.3   \n",
       "5       0.033290      0.001464         0.003009        0.000335         1.5   \n",
       "\n",
       "           params  split0_test_score  split1_test_score  split2_test_score  \\\n",
       "0  {'alpha': 0.1}           0.679163           0.667588           0.674694   \n",
       "1  {'alpha': 0.4}           0.674428           0.662850           0.671141   \n",
       "2  {'alpha': 0.7}           0.662194           0.645085           0.650217   \n",
       "3    {'alpha': 1}           0.644436           0.626530           0.632057   \n",
       "4  {'alpha': 1.3}           0.632991           0.611923           0.614291   \n",
       "5  {'alpha': 1.5}           0.623125           0.602448           0.604816   \n",
       "\n",
       "   mean_test_score  std_test_score  rank_test_score  \n",
       "0         0.673815        0.004766                1  \n",
       "1         0.669473        0.004871                2  \n",
       "2         0.652499        0.007169                3  \n",
       "3         0.634341        0.007486                4  \n",
       "4         0.619735        0.009423                5  \n",
       "5         0.610130        0.009240                6  "
      ]
     },
     "execution_count": 11,
     "metadata": {},
     "output_type": "execute_result"
    }
   ],
   "source": [
    "df_computers = pd.DataFrame(grid_computers.cv_results_)\n",
    "df_computers"
   ]
  },
  {
   "cell_type": "code",
   "execution_count": 12,
   "metadata": {},
   "outputs": [
    {
     "data": {
      "text/plain": [
       "MultinomialNB(alpha=0.1)"
      ]
     },
     "execution_count": 12,
     "metadata": {},
     "output_type": "execute_result"
    }
   ],
   "source": [
    "grid_computers.best_estimator_"
   ]
  },
  {
   "cell_type": "code",
   "execution_count": 13,
   "metadata": {},
   "outputs": [],
   "source": [
    "report, micro_f1 = BG.train_best(X, labels, grid_computers.best_estimator_)"
   ]
  },
  {
   "cell_type": "code",
   "execution_count": 14,
   "metadata": {},
   "outputs": [
    {
     "name": "stdout",
     "output_type": "stream",
     "text": [
      "              precision    recall  f1-score   support\n",
      "\n",
      "  Artificial       0.76      0.84      0.80       104\n",
      "         CAD       0.84      0.83      0.83       100\n",
      "   Companies       0.55      0.61      0.58       106\n",
      "    Computer       0.78      0.81      0.79        95\n",
      " Consultants       0.54      0.80      0.64       100\n",
      "        Data       0.74      0.70      0.72       202\n",
      "   Education       0.86      0.91      0.88        96\n",
      "    Graphics       0.83      0.92      0.87       106\n",
      "    Hardware       0.68      0.61      0.64       104\n",
      "    Internet       0.79      0.59      0.68       108\n",
      "      Mobile       0.79      0.68      0.73       103\n",
      "  Multimedia       0.70      0.75      0.73       101\n",
      "        Open       0.61      0.58      0.59        95\n",
      " Programming       0.53      0.53      0.53       104\n",
      "    Robotics       0.86      0.85      0.86       101\n",
      "    Security       0.62      0.60      0.61        85\n",
      "    Software       0.28      0.22      0.24        97\n",
      "     Systems       0.56      0.53      0.54        93\n",
      "\n",
      "    accuracy                           0.69      1900\n",
      "   macro avg       0.68      0.69      0.68      1900\n",
      "weighted avg       0.69      0.69      0.69      1900\n",
      "\n",
      "f1_micro = 0.6884210526315789\n"
     ]
    }
   ],
   "source": [
    "print(report)\n",
    "print(f'f1_micro = {micro_f1}')"
   ]
  },
  {
   "cell_type": "markdown",
   "metadata": {},
   "source": [
    "### save the grid search results"
   ]
  },
  {
   "cell_type": "code",
   "execution_count": 15,
   "metadata": {},
   "outputs": [],
   "source": [
    "df_computers.to_csv('grid_search_NB_Dmoz-Computer.csv')\n",
    "df_sports.to_csv('grid_search_NB_Dmoz-Sports.csv')"
   ]
  }
 ],
 "metadata": {
  "kernelspec": {
   "display_name": "Python 3",
   "language": "python",
   "name": "python3"
  },
  "language_info": {
   "codemirror_mode": {
    "name": "ipython",
    "version": 3
   },
   "file_extension": ".py",
   "mimetype": "text/x-python",
   "name": "python",
   "nbconvert_exporter": "python",
   "pygments_lexer": "ipython3",
   "version": "3.8.5"
  },
  "vscode": {
   "interpreter": {
    "hash": "4668b2b94aebe22ab6a379c52b27e87f14fb5565ac42686a2db709d03229b54e"
   }
  }
 },
 "nbformat": 4,
 "nbformat_minor": 2
}
