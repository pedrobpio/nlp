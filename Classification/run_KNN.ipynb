{
 "cells": [
  {
   "cell_type": "markdown",
   "metadata": {},
   "source": [
    "# Classification with KNN\n",
    "\n",
    "In this notebook we are going to implement document classification with KNN using TF-IDF to vectorize the text.\n",
    "We are also going to show how to perform the grid search to find the best KNN hiperparameters\n",
    "\n",
    "Note that most of the code is implemented in the document find_best_hyperparameters\n",
    "Thus, we are going to import the KNN_classifier class and the pandas notebook\n",
    "\n",
    "we will also perform the classification in two datasets Dmoz-Sports.csv and Dmoz-Computers.csv"
   ]
  },
  {
   "cell_type": "code",
   "execution_count": 1,
   "metadata": {},
   "outputs": [],
   "source": [
    "from find_best_hyperparameters import KNN_classifier\n",
    "import pandas as pd"
   ]
  },
  {
   "cell_type": "markdown",
   "metadata": {},
   "source": [
    "We then instanciate the class KNN_classifier, that contains the code to find the best hiperparamters and the code to fit the best KNN."
   ]
  },
  {
   "cell_type": "code",
   "execution_count": 2,
   "metadata": {},
   "outputs": [],
   "source": [
    "KNNC = KNN_classifier()"
   ]
  },
  {
   "cell_type": "markdown",
   "metadata": {},
   "source": [
    "## Dmoz-Sports.csv\n",
    "\n",
    "first we need to load the dataset and splits its text and labels"
   ]
  },
  {
   "cell_type": "code",
   "execution_count": 3,
   "metadata": {},
   "outputs": [],
   "source": [
    "df = pd.read_csv('Dmoz-Sports.csv')\n",
    "X = df['text'].values\n",
    "labels = df['class'].values"
   ]
  },
  {
   "cell_type": "markdown",
   "metadata": {},
   "source": [
    "Afterward we are performing the grid search.\n",
    "You can check the code for the grid_seach method however, the important part of it is that it will vectorize the documents with a TfidfVectorizer(), then it will split the X and labels into train and test sets (80% train and 20% tests).\n",
    "\n",
    "it will then perform a grid search on the k hiperparam in the KNN. you can pass other parameters in the following format:\n",
    "\n",
    "params = { 'n_neighbors': [4, 8, 12, 16, 20, 24, 28, 32]}"
   ]
  },
  {
   "cell_type": "code",
   "execution_count": 4,
   "metadata": {},
   "outputs": [],
   "source": [
    "grid_Sport = KNNC.grid_search(X, labels)"
   ]
  },
  {
   "cell_type": "markdown",
   "metadata": {},
   "source": [
    "The results of the grid search are then stored into a pandas dataframe"
   ]
  },
  {
   "cell_type": "code",
   "execution_count": 5,
   "metadata": {},
   "outputs": [
    {
     "data": {
      "text/html": [
       "<div>\n",
       "<style scoped>\n",
       "    .dataframe tbody tr th:only-of-type {\n",
       "        vertical-align: middle;\n",
       "    }\n",
       "\n",
       "    .dataframe tbody tr th {\n",
       "        vertical-align: top;\n",
       "    }\n",
       "\n",
       "    .dataframe thead th {\n",
       "        text-align: right;\n",
       "    }\n",
       "</style>\n",
       "<table border=\"1\" class=\"dataframe\">\n",
       "  <thead>\n",
       "    <tr style=\"text-align: right;\">\n",
       "      <th></th>\n",
       "      <th>mean_fit_time</th>\n",
       "      <th>std_fit_time</th>\n",
       "      <th>mean_score_time</th>\n",
       "      <th>std_score_time</th>\n",
       "      <th>param_n_neighbors</th>\n",
       "      <th>params</th>\n",
       "      <th>split0_test_score</th>\n",
       "      <th>split1_test_score</th>\n",
       "      <th>mean_test_score</th>\n",
       "      <th>std_test_score</th>\n",
       "      <th>rank_test_score</th>\n",
       "    </tr>\n",
       "  </thead>\n",
       "  <tbody>\n",
       "    <tr>\n",
       "      <th>0</th>\n",
       "      <td>0.009161</td>\n",
       "      <td>0.000141</td>\n",
       "      <td>4.633988</td>\n",
       "      <td>0.254061</td>\n",
       "      <td>4</td>\n",
       "      <td>{'n_neighbors': 4}</td>\n",
       "      <td>0.709630</td>\n",
       "      <td>0.708148</td>\n",
       "      <td>0.708889</td>\n",
       "      <td>0.000741</td>\n",
       "      <td>8</td>\n",
       "    </tr>\n",
       "    <tr>\n",
       "      <th>1</th>\n",
       "      <td>0.008090</td>\n",
       "      <td>0.000017</td>\n",
       "      <td>4.630293</td>\n",
       "      <td>0.004409</td>\n",
       "      <td>8</td>\n",
       "      <td>{'n_neighbors': 8}</td>\n",
       "      <td>0.769259</td>\n",
       "      <td>0.769815</td>\n",
       "      <td>0.769537</td>\n",
       "      <td>0.000278</td>\n",
       "      <td>7</td>\n",
       "    </tr>\n",
       "    <tr>\n",
       "      <th>2</th>\n",
       "      <td>0.008014</td>\n",
       "      <td>0.000441</td>\n",
       "      <td>4.667385</td>\n",
       "      <td>0.027659</td>\n",
       "      <td>12</td>\n",
       "      <td>{'n_neighbors': 12}</td>\n",
       "      <td>0.779630</td>\n",
       "      <td>0.789444</td>\n",
       "      <td>0.784537</td>\n",
       "      <td>0.004907</td>\n",
       "      <td>6</td>\n",
       "    </tr>\n",
       "    <tr>\n",
       "      <th>3</th>\n",
       "      <td>0.008058</td>\n",
       "      <td>0.000205</td>\n",
       "      <td>4.775419</td>\n",
       "      <td>0.095780</td>\n",
       "      <td>16</td>\n",
       "      <td>{'n_neighbors': 16}</td>\n",
       "      <td>0.790370</td>\n",
       "      <td>0.798519</td>\n",
       "      <td>0.794444</td>\n",
       "      <td>0.004074</td>\n",
       "      <td>5</td>\n",
       "    </tr>\n",
       "    <tr>\n",
       "      <th>4</th>\n",
       "      <td>0.007586</td>\n",
       "      <td>0.000221</td>\n",
       "      <td>4.678444</td>\n",
       "      <td>0.096939</td>\n",
       "      <td>20</td>\n",
       "      <td>{'n_neighbors': 20}</td>\n",
       "      <td>0.796481</td>\n",
       "      <td>0.799259</td>\n",
       "      <td>0.797870</td>\n",
       "      <td>0.001389</td>\n",
       "      <td>4</td>\n",
       "    </tr>\n",
       "    <tr>\n",
       "      <th>5</th>\n",
       "      <td>0.007378</td>\n",
       "      <td>0.000314</td>\n",
       "      <td>4.894635</td>\n",
       "      <td>0.112063</td>\n",
       "      <td>24</td>\n",
       "      <td>{'n_neighbors': 24}</td>\n",
       "      <td>0.798704</td>\n",
       "      <td>0.800370</td>\n",
       "      <td>0.799537</td>\n",
       "      <td>0.000833</td>\n",
       "      <td>3</td>\n",
       "    </tr>\n",
       "    <tr>\n",
       "      <th>6</th>\n",
       "      <td>0.014971</td>\n",
       "      <td>0.000679</td>\n",
       "      <td>1.540799</td>\n",
       "      <td>0.002685</td>\n",
       "      <td>28</td>\n",
       "      <td>{'n_neighbors': 28}</td>\n",
       "      <td>0.802407</td>\n",
       "      <td>0.802037</td>\n",
       "      <td>0.802222</td>\n",
       "      <td>0.000185</td>\n",
       "      <td>1</td>\n",
       "    </tr>\n",
       "    <tr>\n",
       "      <th>7</th>\n",
       "      <td>0.008949</td>\n",
       "      <td>0.000096</td>\n",
       "      <td>1.507810</td>\n",
       "      <td>0.007633</td>\n",
       "      <td>32</td>\n",
       "      <td>{'n_neighbors': 32}</td>\n",
       "      <td>0.803148</td>\n",
       "      <td>0.797778</td>\n",
       "      <td>0.800463</td>\n",
       "      <td>0.002685</td>\n",
       "      <td>2</td>\n",
       "    </tr>\n",
       "  </tbody>\n",
       "</table>\n",
       "</div>"
      ],
      "text/plain": [
       "   mean_fit_time  std_fit_time  mean_score_time  std_score_time  \\\n",
       "0       0.009161      0.000141         4.633988        0.254061   \n",
       "1       0.008090      0.000017         4.630293        0.004409   \n",
       "2       0.008014      0.000441         4.667385        0.027659   \n",
       "3       0.008058      0.000205         4.775419        0.095780   \n",
       "4       0.007586      0.000221         4.678444        0.096939   \n",
       "5       0.007378      0.000314         4.894635        0.112063   \n",
       "6       0.014971      0.000679         1.540799        0.002685   \n",
       "7       0.008949      0.000096         1.507810        0.007633   \n",
       "\n",
       "  param_n_neighbors               params  split0_test_score  \\\n",
       "0                 4   {'n_neighbors': 4}           0.709630   \n",
       "1                 8   {'n_neighbors': 8}           0.769259   \n",
       "2                12  {'n_neighbors': 12}           0.779630   \n",
       "3                16  {'n_neighbors': 16}           0.790370   \n",
       "4                20  {'n_neighbors': 20}           0.796481   \n",
       "5                24  {'n_neighbors': 24}           0.798704   \n",
       "6                28  {'n_neighbors': 28}           0.802407   \n",
       "7                32  {'n_neighbors': 32}           0.803148   \n",
       "\n",
       "   split1_test_score  mean_test_score  std_test_score  rank_test_score  \n",
       "0           0.708148         0.708889        0.000741                8  \n",
       "1           0.769815         0.769537        0.000278                7  \n",
       "2           0.789444         0.784537        0.004907                6  \n",
       "3           0.798519         0.794444        0.004074                5  \n",
       "4           0.799259         0.797870        0.001389                4  \n",
       "5           0.800370         0.799537        0.000833                3  \n",
       "6           0.802037         0.802222        0.000185                1  \n",
       "7           0.797778         0.800463        0.002685                2  "
      ]
     },
     "execution_count": 5,
     "metadata": {},
     "output_type": "execute_result"
    }
   ],
   "source": [
    "df_sports = pd.DataFrame(grid_Sport.cv_results_)\n",
    "df_sports"
   ]
  },
  {
   "cell_type": "markdown",
   "metadata": {},
   "source": [
    "We then check the best estimetor in the grid seach"
   ]
  },
  {
   "cell_type": "code",
   "execution_count": 6,
   "metadata": {},
   "outputs": [
    {
     "data": {
      "text/plain": [
       "KNeighborsClassifier(n_neighbors=28)"
      ]
     },
     "execution_count": 6,
     "metadata": {},
     "output_type": "execute_result"
    }
   ],
   "source": [
    "grid_Sport.best_estimator_"
   ]
  },
  {
   "cell_type": "markdown",
   "metadata": {},
   "source": [
    "Afterwards, we will train the best model using the hole train dataset and retrun the results of the tests\n",
    "\n",
    "here we are still spliting the train and test in 80/20 %"
   ]
  },
  {
   "cell_type": "code",
   "execution_count": 7,
   "metadata": {},
   "outputs": [],
   "source": [
    "report, micro_f1 = KNNC.train_best(X, labels, grid_Sport.best_estimator_)"
   ]
  },
  {
   "cell_type": "markdown",
   "metadata": {},
   "source": [
    "The train best method will return a report containing the precision, recall, accuracy and f1-score and a micro_f1\n",
    "\n",
    "we then print those values to evaluate the results"
   ]
  },
  {
   "cell_type": "code",
   "execution_count": 8,
   "metadata": {},
   "outputs": [
    {
     "name": "stdout",
     "output_type": "stream",
     "text": [
      "              precision    recall  f1-score   support\n",
      "\n",
      "    Baseball       0.74      0.71      0.73       114\n",
      "  Basketball       0.81      0.87      0.84       102\n",
      "     Bowling       0.94      0.97      0.96       101\n",
      "     Cricket       0.66      0.89      0.75        90\n",
      "     Cycling       0.94      0.87      0.90       107\n",
      "  Equestrian       0.94      0.89      0.92        95\n",
      "     Fencing       0.83      0.95      0.89       111\n",
      "      Flying       0.77      0.89      0.83        97\n",
      "    Football       0.70      0.57      0.63       107\n",
      "        Golf       1.00      0.86      0.93        94\n",
      "  Gymnastics       0.91      0.91      0.91        95\n",
      "      Hockey       0.82      0.53      0.65       101\n",
      "    Lacrosse       0.71      0.87      0.78       100\n",
      "     Martial       0.98      0.93      0.95        88\n",
      " Motorsports       0.87      0.71      0.78       101\n",
      "   Paintball       0.91      0.92      0.91        84\n",
      "     Running       0.85      0.92      0.88       108\n",
      "     Skating       0.88      0.85      0.87       107\n",
      "      Soccer       0.80      0.76      0.78       102\n",
      "    Softball       0.86      0.93      0.89       114\n",
      "    Strength       0.87      0.90      0.88        86\n",
      "      Tennis       0.80      0.78      0.79       106\n",
      "       Track       0.79      0.91      0.84        98\n",
      "  Volleyball       0.69      0.71      0.70        82\n",
      "       Water       0.95      0.80      0.87       104\n",
      "      Winter       0.86      0.88      0.87        90\n",
      "   Wrestling       0.76      0.77      0.76       116\n",
      "\n",
      "    accuracy                           0.83      2700\n",
      "   macro avg       0.84      0.84      0.83      2700\n",
      "weighted avg       0.84      0.83      0.83      2700\n",
      "\n",
      "f1_micro = 0.8333333333333334\n"
     ]
    }
   ],
   "source": [
    "print(report)\n",
    "print(f'f1_micro = {micro_f1}')"
   ]
  },
  {
   "cell_type": "markdown",
   "metadata": {},
   "source": [
    "## Dmoz-Computers.csv\n",
    "\n",
    "For this dataset we aregoing to repeat the entire processe that we did with the other one"
   ]
  },
  {
   "cell_type": "code",
   "execution_count": 9,
   "metadata": {},
   "outputs": [],
   "source": [
    "\n",
    "df = pd.read_csv('Dmoz-Computers.csv')\n",
    "X = df['text'].values\n",
    "labels = df['class'].values"
   ]
  },
  {
   "cell_type": "code",
   "execution_count": 10,
   "metadata": {},
   "outputs": [],
   "source": [
    "grid_Computers = KNNC.grid_search(X, labels)"
   ]
  },
  {
   "cell_type": "code",
   "execution_count": 11,
   "metadata": {},
   "outputs": [
    {
     "data": {
      "text/html": [
       "<div>\n",
       "<style scoped>\n",
       "    .dataframe tbody tr th:only-of-type {\n",
       "        vertical-align: middle;\n",
       "    }\n",
       "\n",
       "    .dataframe tbody tr th {\n",
       "        vertical-align: top;\n",
       "    }\n",
       "\n",
       "    .dataframe thead th {\n",
       "        text-align: right;\n",
       "    }\n",
       "</style>\n",
       "<table border=\"1\" class=\"dataframe\">\n",
       "  <thead>\n",
       "    <tr style=\"text-align: right;\">\n",
       "      <th></th>\n",
       "      <th>mean_fit_time</th>\n",
       "      <th>std_fit_time</th>\n",
       "      <th>mean_score_time</th>\n",
       "      <th>std_score_time</th>\n",
       "      <th>param_n_neighbors</th>\n",
       "      <th>params</th>\n",
       "      <th>split0_test_score</th>\n",
       "      <th>split1_test_score</th>\n",
       "      <th>mean_test_score</th>\n",
       "      <th>std_test_score</th>\n",
       "      <th>rank_test_score</th>\n",
       "    </tr>\n",
       "  </thead>\n",
       "  <tbody>\n",
       "    <tr>\n",
       "      <th>0</th>\n",
       "      <td>0.004764</td>\n",
       "      <td>0.000948</td>\n",
       "      <td>1.916852</td>\n",
       "      <td>0.020274</td>\n",
       "      <td>4</td>\n",
       "      <td>{'n_neighbors': 4}</td>\n",
       "      <td>0.607105</td>\n",
       "      <td>0.599211</td>\n",
       "      <td>0.603158</td>\n",
       "      <td>0.003947</td>\n",
       "      <td>8</td>\n",
       "    </tr>\n",
       "    <tr>\n",
       "      <th>1</th>\n",
       "      <td>0.005805</td>\n",
       "      <td>0.000125</td>\n",
       "      <td>1.897177</td>\n",
       "      <td>0.047546</td>\n",
       "      <td>8</td>\n",
       "      <td>{'n_neighbors': 8}</td>\n",
       "      <td>0.635526</td>\n",
       "      <td>0.623421</td>\n",
       "      <td>0.629474</td>\n",
       "      <td>0.006053</td>\n",
       "      <td>7</td>\n",
       "    </tr>\n",
       "    <tr>\n",
       "      <th>2</th>\n",
       "      <td>0.004739</td>\n",
       "      <td>0.000491</td>\n",
       "      <td>1.891349</td>\n",
       "      <td>0.103187</td>\n",
       "      <td>12</td>\n",
       "      <td>{'n_neighbors': 12}</td>\n",
       "      <td>0.649211</td>\n",
       "      <td>0.632895</td>\n",
       "      <td>0.641053</td>\n",
       "      <td>0.008158</td>\n",
       "      <td>3</td>\n",
       "    </tr>\n",
       "    <tr>\n",
       "      <th>3</th>\n",
       "      <td>0.005283</td>\n",
       "      <td>0.000156</td>\n",
       "      <td>1.853592</td>\n",
       "      <td>0.008166</td>\n",
       "      <td>16</td>\n",
       "      <td>{'n_neighbors': 16}</td>\n",
       "      <td>0.657105</td>\n",
       "      <td>0.633158</td>\n",
       "      <td>0.645132</td>\n",
       "      <td>0.011974</td>\n",
       "      <td>1</td>\n",
       "    </tr>\n",
       "    <tr>\n",
       "      <th>4</th>\n",
       "      <td>0.005487</td>\n",
       "      <td>0.000791</td>\n",
       "      <td>1.899796</td>\n",
       "      <td>0.024385</td>\n",
       "      <td>20</td>\n",
       "      <td>{'n_neighbors': 20}</td>\n",
       "      <td>0.653158</td>\n",
       "      <td>0.630526</td>\n",
       "      <td>0.641842</td>\n",
       "      <td>0.011316</td>\n",
       "      <td>2</td>\n",
       "    </tr>\n",
       "    <tr>\n",
       "      <th>5</th>\n",
       "      <td>0.006056</td>\n",
       "      <td>0.000866</td>\n",
       "      <td>1.913840</td>\n",
       "      <td>0.023272</td>\n",
       "      <td>24</td>\n",
       "      <td>{'n_neighbors': 24}</td>\n",
       "      <td>0.652632</td>\n",
       "      <td>0.628684</td>\n",
       "      <td>0.640658</td>\n",
       "      <td>0.011974</td>\n",
       "      <td>4</td>\n",
       "    </tr>\n",
       "    <tr>\n",
       "      <th>6</th>\n",
       "      <td>0.006155</td>\n",
       "      <td>0.001283</td>\n",
       "      <td>0.693498</td>\n",
       "      <td>0.005935</td>\n",
       "      <td>28</td>\n",
       "      <td>{'n_neighbors': 28}</td>\n",
       "      <td>0.650000</td>\n",
       "      <td>0.630526</td>\n",
       "      <td>0.640263</td>\n",
       "      <td>0.009737</td>\n",
       "      <td>5</td>\n",
       "    </tr>\n",
       "    <tr>\n",
       "      <th>7</th>\n",
       "      <td>0.004502</td>\n",
       "      <td>0.000011</td>\n",
       "      <td>0.686108</td>\n",
       "      <td>0.011620</td>\n",
       "      <td>32</td>\n",
       "      <td>{'n_neighbors': 32}</td>\n",
       "      <td>0.647632</td>\n",
       "      <td>0.631316</td>\n",
       "      <td>0.639474</td>\n",
       "      <td>0.008158</td>\n",
       "      <td>6</td>\n",
       "    </tr>\n",
       "  </tbody>\n",
       "</table>\n",
       "</div>"
      ],
      "text/plain": [
       "   mean_fit_time  std_fit_time  mean_score_time  std_score_time  \\\n",
       "0       0.004764      0.000948         1.916852        0.020274   \n",
       "1       0.005805      0.000125         1.897177        0.047546   \n",
       "2       0.004739      0.000491         1.891349        0.103187   \n",
       "3       0.005283      0.000156         1.853592        0.008166   \n",
       "4       0.005487      0.000791         1.899796        0.024385   \n",
       "5       0.006056      0.000866         1.913840        0.023272   \n",
       "6       0.006155      0.001283         0.693498        0.005935   \n",
       "7       0.004502      0.000011         0.686108        0.011620   \n",
       "\n",
       "  param_n_neighbors               params  split0_test_score  \\\n",
       "0                 4   {'n_neighbors': 4}           0.607105   \n",
       "1                 8   {'n_neighbors': 8}           0.635526   \n",
       "2                12  {'n_neighbors': 12}           0.649211   \n",
       "3                16  {'n_neighbors': 16}           0.657105   \n",
       "4                20  {'n_neighbors': 20}           0.653158   \n",
       "5                24  {'n_neighbors': 24}           0.652632   \n",
       "6                28  {'n_neighbors': 28}           0.650000   \n",
       "7                32  {'n_neighbors': 32}           0.647632   \n",
       "\n",
       "   split1_test_score  mean_test_score  std_test_score  rank_test_score  \n",
       "0           0.599211         0.603158        0.003947                8  \n",
       "1           0.623421         0.629474        0.006053                7  \n",
       "2           0.632895         0.641053        0.008158                3  \n",
       "3           0.633158         0.645132        0.011974                1  \n",
       "4           0.630526         0.641842        0.011316                2  \n",
       "5           0.628684         0.640658        0.011974                4  \n",
       "6           0.630526         0.640263        0.009737                5  \n",
       "7           0.631316         0.639474        0.008158                6  "
      ]
     },
     "execution_count": 11,
     "metadata": {},
     "output_type": "execute_result"
    }
   ],
   "source": [
    "df_computer = pd.DataFrame(grid_Computers.cv_results_)\n",
    "df_computer"
   ]
  },
  {
   "cell_type": "code",
   "execution_count": 12,
   "metadata": {},
   "outputs": [],
   "source": [
    "report, micro_f1 = KNNC.train_best(X, labels, grid_Computers.best_estimator_)"
   ]
  },
  {
   "cell_type": "code",
   "execution_count": 13,
   "metadata": {},
   "outputs": [
    {
     "name": "stdout",
     "output_type": "stream",
     "text": [
      "              precision    recall  f1-score   support\n",
      "\n",
      "  Artificial       0.74      0.80      0.77       104\n",
      "         CAD       0.72      0.82      0.77       100\n",
      "   Companies       0.45      0.67      0.54       106\n",
      "    Computer       0.80      0.81      0.81        95\n",
      " Consultants       0.52      0.73      0.61       100\n",
      "        Data       0.65      0.82      0.72       202\n",
      "   Education       0.81      0.85      0.83        96\n",
      "    Graphics       0.83      0.92      0.87       106\n",
      "    Hardware       0.72      0.57      0.63       104\n",
      "    Internet       0.73      0.56      0.64       108\n",
      "      Mobile       0.80      0.76      0.78       103\n",
      "  Multimedia       0.76      0.77      0.77       101\n",
      "        Open       0.57      0.63      0.60        95\n",
      " Programming       0.51      0.37      0.43       104\n",
      "    Robotics       0.79      0.83      0.81       101\n",
      "    Security       0.69      0.64      0.66        85\n",
      "    Software       0.56      0.10      0.17        97\n",
      "     Systems       0.74      0.49      0.59        93\n",
      "\n",
      "    accuracy                           0.68      1900\n",
      "   macro avg       0.69      0.67      0.67      1900\n",
      "weighted avg       0.69      0.68      0.67      1900\n",
      "\n",
      "f1_micro = 0.6836842105263158\n"
     ]
    }
   ],
   "source": [
    "print(report)\n",
    "print(f'f1_micro = {micro_f1}')"
   ]
  },
  {
   "cell_type": "markdown",
   "metadata": {},
   "source": [
    "### save the grid search results"
   ]
  },
  {
   "cell_type": "code",
   "execution_count": 14,
   "metadata": {},
   "outputs": [],
   "source": [
    "df_computer.to_csv('grid_search_KKN_Dmoz-Computer.csv')\n",
    "df_sports.to_csv('grid_search_KKN_Dmoz-Sports.csv')"
   ]
  }
 ],
 "metadata": {
  "kernelspec": {
   "display_name": "Python 3",
   "language": "python",
   "name": "python3"
  },
  "language_info": {
   "codemirror_mode": {
    "name": "ipython",
    "version": 3
   },
   "file_extension": ".py",
   "mimetype": "text/x-python",
   "name": "python",
   "nbconvert_exporter": "python",
   "pygments_lexer": "ipython3",
   "version": "3.8.5"
  },
  "vscode": {
   "interpreter": {
    "hash": "4668b2b94aebe22ab6a379c52b27e87f14fb5565ac42686a2db709d03229b54e"
   }
  }
 },
 "nbformat": 4,
 "nbformat_minor": 2
}
